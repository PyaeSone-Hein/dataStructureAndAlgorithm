{
 "cells": [
  {
   "cell_type": "code",
   "execution_count": 1,
   "id": "f627dfbf-080b-4349-979d-85e4fd860aeb",
   "metadata": {},
   "outputs": [],
   "source": [
    "import sys"
   ]
  },
  {
   "cell_type": "code",
   "execution_count": 4,
   "id": "961aec54-7a7f-42ae-bef2-f2ea8eee6b32",
   "metadata": {},
   "outputs": [
    {
     "name": "stdout",
     "output_type": "stream",
     "text": [
      "10 -> 20 -> 30 -> 40 -> None\n",
      "10 -> 20 -> 40 -> None\n"
     ]
    }
   ],
   "source": [
    "class Node:\n",
    "    def __init__(self, a_number):\n",
    "        self.data = a_number\n",
    "        self.next = None\n",
    "\n",
    "class LinkedList:\n",
    "    def __init__(self):\n",
    "        self.head = None\n",
    "\n",
    "    def append(self, a_number):\n",
    "        new_node = Node(a_number)\n",
    "        if self.head is None:\n",
    "            self.head = new_node\n",
    "            return\n",
    "        last = self.head\n",
    "        while last.next:\n",
    "            last = last.next\n",
    "        last.next = new_node\n",
    "\n",
    "    def delete_element(self, position):\n",
    "        if position < 0:\n",
    "            return\n",
    "\n",
    "        # Case 1: Deleting the first element\n",
    "        if position == 0:\n",
    "            if self.head is not None:\n",
    "                self.head = self.head.next\n",
    "            return\n",
    "\n",
    "        # Initialize variables for traversal\n",
    "        i = 0\n",
    "        current = self.head\n",
    "        previous = None\n",
    "\n",
    "        # Case 2: Traverse the list to find the position\n",
    "        while current is not None and i < position:\n",
    "            previous = current\n",
    "            current = current.next\n",
    "            i += 1\n",
    "\n",
    "        # If the current node is not None, adjust pointers to remove the element\n",
    "        if current is not None:\n",
    "            previous.next = current.next\n",
    "\n",
    "    def print_list(self):\n",
    "        current = self.head\n",
    "        while current:\n",
    "            print(current.data, end=\" -> \")\n",
    "            current = current.next\n",
    "        print(\"None\")\n",
    "\n",
    "# Example Usage\n",
    "ll = LinkedList()\n",
    "ll.append(10)\n",
    "ll.append(20)\n",
    "ll.append(30)\n",
    "ll.append(40)\n",
    "\n",
    "ll.print_list()\n",
    "ll.delete_element(2)\n",
    "ll.print_list()\n",
    "\n",
    "#print(\"Initial Linked List:\")\n",
    "#ll.print_list()  # Output: 10 -> 20 -> 30 -> 40 -> None\n",
    "#print(sys.getsizeof(ll))\n",
    "#ll.delete_element(2)\n",
    "\n",
    "#print(\"Linked List after deleting element at position 2:\")\n",
    "#ll.print_list()  # Output: 10 -> 20 -> 40 -> None\n"
   ]
  },
  {
   "cell_type": "code",
   "execution_count": 3,
   "id": "a1404213-9a73-419f-b855-ce7a44aeb173",
   "metadata": {},
   "outputs": [
    {
     "name": "stdout",
     "output_type": "stream",
     "text": [
      "Doubly Linked List Elements:\n",
      "10 <-> 20 <-> 30 <-> 40 <-> None\n"
     ]
    }
   ],
   "source": [
    "class Node:\n",
    "    def __init__(self, data):\n",
    "        self.data = data  # Data to store the value\n",
    "        self.next = None  # Pointer to the next node\n",
    "        self.prev = None  # Pointer to the previous node\n",
    "\n",
    "class DoublyLinkedList:\n",
    "    def __init__(self):\n",
    "        self.head = None\n",
    "        self.tail = None\n",
    "\n",
    "    def append(self, data):\n",
    "        \"\"\"Append a new node at the end of the doubly linked list.\"\"\"\n",
    "        new_node = Node(data)\n",
    "        if self.head is None:  # If the list is empty\n",
    "            self.head = new_node\n",
    "            self.tail = new_node\n",
    "        else:\n",
    "            self.tail.next = new_node\n",
    "            new_node.prev = self.tail\n",
    "            self.tail = new_node\n",
    "\n",
    "    def display_elements(self):\n",
    "        \"\"\"Display all elements in the doubly linked list.\"\"\"\n",
    "        current = self.head\n",
    "        while current:\n",
    "            print(current.data, end=\" <-> \")\n",
    "            current = current.next\n",
    "        print(\"None\")\n",
    "\n",
    "# Example Usage\n",
    "dll = DoublyLinkedList()\n",
    "dll.append(10)\n",
    "dll.append(20)\n",
    "dll.append(30)\n",
    "dll.append(40)\n",
    "#print(sys.getsizeof(dll))\n",
    "print(\"Doubly Linked List Elements:\")\n",
    "dll.display_elements()  # Output: 10 <-> 20 <-> 30 <-> 40 <-> None"
   ]
  },
  {
   "cell_type": "code",
   "execution_count": null,
   "id": "4b59859b-d3b6-418e-9786-ff021a5c958c",
   "metadata": {},
   "outputs": [],
   "source": []
  }
 ],
 "metadata": {
  "kernelspec": {
   "display_name": "Python 3",
   "language": "python",
   "name": "python3"
  },
  "language_info": {
   "codemirror_mode": {
    "name": "ipython",
    "version": 3
   },
   "file_extension": ".py",
   "mimetype": "text/x-python",
   "name": "python",
   "nbconvert_exporter": "python",
   "pygments_lexer": "ipython3",
   "version": "3.13.7"
  }
 },
 "nbformat": 4,
 "nbformat_minor": 5
}
