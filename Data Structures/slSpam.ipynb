{
 "cells": [
  {
   "cell_type": "code",
   "execution_count": 12,
   "id": "a01be9b2-c344-418a-88d7-d60666054c72",
   "metadata": {},
   "outputs": [],
   "source": [
    "import sys"
   ]
  },
  {
   "cell_type": "code",
   "execution_count": 14,
   "id": "cf3e16d0-42d3-4df7-9799-1ed2b8e01d8b",
   "metadata": {},
   "outputs": [
    {
     "name": "stdout",
     "output_type": "stream",
     "text": [
      "10-->20-->30-->40-->None\n",
      "20-->30-->40-->None\n",
      "Initial Linked List:\n",
      "20-->30-->40-->None\n",
      "48\n"
     ]
    }
   ],
   "source": [
    "#Creaete node\n",
    "class Node:\n",
    "    def __init__(self, a_number):\n",
    "        self.data = a_number\n",
    "        self.next = None\n",
    "\n",
    "#Linked list\n",
    "\n",
    "class LinkedList: \n",
    "    def __init__(self):\n",
    "        self.head = None\n",
    "\n",
    "    def append(self, a_number):\n",
    "        new_node = Node(a_number)\n",
    "        if self.head is None:\n",
    "            self.head = new_node\n",
    "            return\n",
    "\n",
    "        last = self.head\n",
    "        while last.next:\n",
    "            last = last.next\n",
    "\n",
    "        last.next = new_node\n",
    "\n",
    "    def delete_element(self, position):\n",
    "        if position < 0:\n",
    "            return\n",
    "\n",
    "        if position > 0:\n",
    "            if self.head is not None:\n",
    "                self.head = self.head.next\n",
    "            return\n",
    "\n",
    "        i = 0\n",
    "        current = self.head\n",
    "        previous = None\n",
    "\n",
    "        while current is not None and position < 0:\n",
    "            previous = current\n",
    "            current = current.next\n",
    "\n",
    "            i += 1\n",
    "\n",
    "        if current is not None:\n",
    "            previous.next = current.next\n",
    "\n",
    "    def print_list(self):\n",
    "        current = self.head\n",
    "        while current:\n",
    "            print(current.data, end= \"-->\")\n",
    "            current = current.next\n",
    "\n",
    "        print(\"None\")\n",
    "\n",
    "ll = LinkedList()\n",
    "\n",
    "ll.append(10)\n",
    "ll.append(20)\n",
    "ll.append(30)\n",
    "ll.append(40)\n",
    "\n",
    "ll.print_list()\n",
    "ll.delete_element(2)\n",
    "ll.print_list()\n",
    "\n",
    "print(\"Initial Linked List:\")\n",
    "ll.print_list() \n",
    "\n",
    "print(sys.getsizeof(ll))\n",
    "ll.delete_element(2)\n"
   ]
  },
  {
   "cell_type": "code",
   "execution_count": 2,
   "id": "cef1c0fd-bad1-48a9-a838-4a8519d5740b",
   "metadata": {},
   "outputs": [],
   "source": [
    "import sys"
   ]
  },
  {
   "cell_type": "code",
   "execution_count": 25,
   "id": "ec6eafdf-b169-4858-a4ed-d27afa2251ee",
   "metadata": {},
   "outputs": [
    {
     "name": "stdout",
     "output_type": "stream",
     "text": [
      "Original List:\n",
      "10-->20-->30-->40-->None\n",
      "Reversed List:\n",
      "40-->30-->20-->10-->None\n"
     ]
    }
   ],
   "source": [
    "class Node:\n",
    "    def __init__(self, data):\n",
    "        self.data = data\n",
    "        self.next = None\n",
    "\n",
    "class LinkedList:\n",
    "    def __init__(self):\n",
    "        self.head = None\n",
    "        \n",
    "    def append(self, data):\n",
    "        new_node = Node(data)\n",
    "        if self.head is None:\n",
    "            self.head = new_node\n",
    "            return\n",
    "        \n",
    "        last = self.head\n",
    "        while last.next:\n",
    "            last = last.next\n",
    "        last.next = new_node\n",
    "        \n",
    "    def print_list(self):\n",
    "        current = self.head\n",
    "        while current:\n",
    "            print(current.data, end = \"-->\")\n",
    "            current = current.next\n",
    "        print(\"None\")\n",
    "\n",
    "    \n",
    "    def reverse(self):\n",
    "        prev = None\n",
    "        current = self.head\n",
    "        while current:\n",
    "            next_node = current.next\n",
    "            current.next = prev\n",
    "            prev = current\n",
    "            current = next_node\n",
    "        self.head = prev\n",
    "    \n",
    "    #usage\n",
    "ll = LinkedList()\n",
    "ll.append(10)\n",
    "ll.append(20)\n",
    "ll.append(30)\n",
    "ll.append(40)\n",
    "    \n",
    "print(\"Original List:\")\n",
    "ll.print_list()\n",
    "    \n",
    "ll.reverse()\n",
    "    \n",
    "print(\"Reversed List:\")\n",
    "ll.print_list()\n",
    "                "
   ]
  },
  {
   "cell_type": "code",
   "execution_count": null,
   "id": "c2fbf764-4ea2-43d0-9ab2-44018013ecc5",
   "metadata": {},
   "outputs": [],
   "source": []
  }
 ],
 "metadata": {
  "kernelspec": {
   "display_name": "Python 3",
   "language": "python",
   "name": "python3"
  },
  "language_info": {
   "codemirror_mode": {
    "name": "ipython",
    "version": 3
   },
   "file_extension": ".py",
   "mimetype": "text/x-python",
   "name": "python",
   "nbconvert_exporter": "python",
   "pygments_lexer": "ipython3",
   "version": "3.13.7"
  }
 },
 "nbformat": 4,
 "nbformat_minor": 5
}
