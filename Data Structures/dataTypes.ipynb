{
 "cells": [
  {
   "cell_type": "code",
   "execution_count": 2,
   "id": "ab507ec9-fb61-44b6-95a7-17ce32dedd1e",
   "metadata": {},
   "outputs": [
    {
     "name": "stdout",
     "output_type": "stream",
     "text": [
      "The size of the integer variable is: 28 bytes.\n"
     ]
    }
   ],
   "source": [
    "import sys\n",
    "integer = 10\n",
    "print(\"The size of the integer variable is:\",sys.getsizeof(integer), \"bytes.\")"
   ]
  },
  {
   "cell_type": "code",
   "execution_count": null,
   "id": "d052626a-942d-4e92-8135-be09b3e98ced",
   "metadata": {},
   "outputs": [],
   "source": [
    "#Part 2"
   ]
  },
  {
   "cell_type": "code",
   "execution_count": null,
   "id": "0cadb62a-dbe4-4299-9b4f-1a017dbe43a2",
   "metadata": {},
   "outputs": [],
   "source": [
    "#1.Introduction to dataTypes"
   ]
  },
  {
   "cell_type": "code",
   "execution_count": null,
   "id": "beddb1f1-8b6d-4441-a9e5-153012f3c6a2",
   "metadata": {},
   "outputs": [],
   "source": [
    "# Data types in Python represent the kind of values a variable can hold.\n",
    "# Common basic data types include:\n",
    "# int (integer numbers), float (decimal numbers), str (strings or text), and bool (True/False values)."
   ]
  },
  {
   "cell_type": "code",
   "execution_count": null,
   "id": "fa4d7295-0c28-4dc9-a5da-fee9d3f2c324",
   "metadata": {},
   "outputs": [],
   "source": [
    "#2.Defining and Printing Basic Data Types"
   ]
  },
  {
   "cell_type": "code",
   "execution_count": 3,
   "id": "113e81c4-1634-491f-ba6a-226db5f1104d",
   "metadata": {},
   "outputs": [
    {
     "name": "stdout",
     "output_type": "stream",
     "text": [
      "10\n"
     ]
    }
   ],
   "source": [
    "#integer\n",
    "my_int = 10\n",
    "print(my_int)"
   ]
  },
  {
   "cell_type": "code",
   "execution_count": 4,
   "id": "f4e67c88-add0-4080-9446-22646b5d58fd",
   "metadata": {},
   "outputs": [
    {
     "name": "stdout",
     "output_type": "stream",
     "text": [
      "3.14\n"
     ]
    }
   ],
   "source": [
    "#Float\n",
    "my_float = 3.14\n",
    "print(my_float)"
   ]
  },
  {
   "cell_type": "code",
   "execution_count": 5,
   "id": "e670fc17-8d45-4410-9889-88c6925b5eb3",
   "metadata": {},
   "outputs": [
    {
     "name": "stdout",
     "output_type": "stream",
     "text": [
      "Hello| Pyae\n"
     ]
    }
   ],
   "source": [
    "#String\n",
    "my_str = \"Hello| Pyae\"\n",
    "print(my_str)"
   ]
  },
  {
   "cell_type": "code",
   "execution_count": 6,
   "id": "76b81eb1-b83d-4442-8ce3-4fb24ac4fbcd",
   "metadata": {},
   "outputs": [
    {
     "name": "stdout",
     "output_type": "stream",
     "text": [
      "True\n"
     ]
    }
   ],
   "source": [
    "my_bool = True\n",
    "print(my_bool)"
   ]
  },
  {
   "cell_type": "code",
   "execution_count": 7,
   "id": "d03c010b-7bec-4ef6-a4b9-804c25a389d7",
   "metadata": {},
   "outputs": [],
   "source": [
    "#3. Using type Function"
   ]
  },
  {
   "cell_type": "code",
   "execution_count": 8,
   "id": "9edc5690-2c5c-491f-9c7b-3e06d298bd55",
   "metadata": {},
   "outputs": [
    {
     "name": "stdout",
     "output_type": "stream",
     "text": [
      "<class 'int'>\n",
      "<class 'float'>\n",
      "<class 'str'>\n",
      "<class 'bool'>\n"
     ]
    }
   ],
   "source": [
    "print(type(my_int))\n",
    "print(type(my_float))\n",
    "print(type(my_str))\n",
    "print(type(my_bool))"
   ]
  },
  {
   "cell_type": "code",
   "execution_count": 9,
   "id": "ef891cfb-793e-4456-8280-6b8a6d863f6f",
   "metadata": {},
   "outputs": [],
   "source": [
    "#4. Type Conversion"
   ]
  },
  {
   "cell_type": "code",
   "execution_count": 11,
   "id": "270c9c09-d7c7-49f5-a0ae-95d37c2e459b",
   "metadata": {},
   "outputs": [
    {
     "name": "stdout",
     "output_type": "stream",
     "text": [
      "Converted float to int: 3\n",
      "Converted int to str: 10\n",
      "Converted str to bool: True\n"
     ]
    }
   ],
   "source": [
    "#Converting Float to int\n",
    "converted_int = int(my_float)\n",
    "print('Converted float to int:', converted_int)\n",
    "\n",
    "#Converting int to string\n",
    "converted_str = str(my_int)\n",
    "print('Converted int to str:', converted_str)\n",
    "\n",
    "#Converting string to boolean\n",
    "converted_bool = bool(my_str)\n",
    "print('Converted str to bool:', converted_bool)"
   ]
  },
  {
   "cell_type": "code",
   "execution_count": null,
   "id": "cd345116-1175-48a7-ac75-a586d60c9b1d",
   "metadata": {},
   "outputs": [],
   "source": [
    "#Part 3"
   ]
  },
  {
   "cell_type": "code",
   "execution_count": 14,
   "id": "3090afe9-3121-4bd5-97d5-123f03486952",
   "metadata": {},
   "outputs": [],
   "source": [
    "#1.Function to Determine Data types"
   ]
  },
  {
   "cell_type": "code",
   "execution_count": 15,
   "id": "d06829e6-b1ab-4686-86d0-606c02db23ff",
   "metadata": {},
   "outputs": [
    {
     "name": "stdout",
     "output_type": "stream",
     "text": [
      "int\n",
      "float\n",
      "str\n",
      "bool\n"
     ]
    }
   ],
   "source": [
    "def get_data_type(value):\n",
    "    return str(type(value).__name__)\n",
    "\n",
    "print(get_data_type(42))\n",
    "print(get_data_type(4.2))\n",
    "print(get_data_type('Pyae'))\n",
    "print(get_data_type(True))"
   ]
  },
  {
   "cell_type": "code",
   "execution_count": 16,
   "id": "92cb6b41-dc0b-4b58-8a43-6acbfeeb50f1",
   "metadata": {},
   "outputs": [],
   "source": [
    "#2.String Formatting "
   ]
  },
  {
   "cell_type": "code",
   "execution_count": 18,
   "id": "4de7be4d-0513-44f9-8176-ec99fbfd0b19",
   "metadata": {},
   "outputs": [
    {
     "name": "stdout",
     "output_type": "stream",
     "text": [
      "The value 42 is of type int\n",
      "The value 3.14 is of type float\n"
     ]
    }
   ],
   "source": [
    "value = 42\n",
    "print(f'The value {value} is of type {type(value).__name__}')\n",
    "\n",
    "value = 3.14\n",
    "print(f'The value {value} is of type {type(value).__name__}')"
   ]
  },
  {
   "cell_type": "code",
   "execution_count": 19,
   "id": "af475856-5d56-4593-b700-a714ef77e09e",
   "metadata": {},
   "outputs": [],
   "source": [
    "#3. Handle Unexpected DataTypes"
   ]
  },
  {
   "cell_type": "code",
   "execution_count": 21,
   "id": "b944bcdd-7b50-4fd5-b214-32f04d116596",
   "metadata": {
    "scrolled": true
   },
   "outputs": [
    {
     "name": "stdout",
     "output_type": "stream",
     "text": [
      "int\n",
      "list\n",
      "NoneType\n"
     ]
    }
   ],
   "source": [
    "def safe_get_data_type(value):\n",
    "    try:\n",
    "        return str(type(value).__name__)\n",
    "    except Exception as e:\n",
    "        return f\"Error: {e}\"\n",
    "\n",
    "print(safe_get_data_type(123))\n",
    "print(safe_get_data_type([1, 2, 3]))\n",
    "\n",
    "print(safe_get_data_type(None))"
   ]
  },
  {
   "cell_type": "code",
   "execution_count": null,
   "id": "0e1a09cd-d8c4-481d-8665-4475b93eb45c",
   "metadata": {},
   "outputs": [],
   "source": [
    "#Questions\n",
    "\n",
    "Part 2: Exploring Data Types\n",
    "1. Introduction to Data Types:\n",
    "o In the first cell, write a brief introduction about data types in Python.\n",
    "2. Defining and Printing Basic Data Types:\n",
    "o In separate cells, define variables for each of the following basic data types: int,\n",
    "float, str, bool.\n",
    "o Print the values of these variables.\n",
    "3. Using the type() Function:\n",
    "o Use the type() function to determine and print the data type of each variable.\n",
    "4. Challenge:\n",
    "o Try converting one data type to another without causing an error (e.g., converting\n",
    "a float to an int, or a str to a bool).\n",
    "\n",
    "Part 3: Advanced Challenges\n",
    "1. Function to Determine Data Type:\n",
    "o Write a function that takes in a value and returns its data type as a string. Test your\n",
    "function with different basic data types.\n",
    "\n",
    "2. String Formatting:\n",
    "o Using string formatting, create a sentence that describes the value and data type of\n",
    "a variable. For example: \"The value 5 is of type int.\"\n",
    "\n",
    "3. Challenge:\n",
    "o Handle cases where the input to your function is an unexpected data type."
   ]
  }
 ],
 "metadata": {
  "kernelspec": {
   "display_name": "Python 3 (ipykernel)",
   "language": "python",
   "name": "python3"
  },
  "language_info": {
   "codemirror_mode": {
    "name": "ipython",
    "version": 3
   },
   "file_extension": ".py",
   "mimetype": "text/x-python",
   "name": "python",
   "nbconvert_exporter": "python",
   "pygments_lexer": "ipython3",
   "version": "3.13.2"
  }
 },
 "nbformat": 4,
 "nbformat_minor": 5
}
