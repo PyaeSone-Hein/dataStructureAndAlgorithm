{
 "cells": [
  {
   "cell_type": "code",
   "execution_count": 1,
   "id": "da5ca190-8ac3-4ac2-a2f4-dc2ecfb6729b",
   "metadata": {},
   "outputs": [],
   "source": [
    "import numpy as np\n",
    "import pandas as pd"
   ]
  },
  {
   "cell_type": "code",
   "execution_count": 11,
   "id": "6f7307da-eb7e-4c05-a726-ea72c87ca23f",
   "metadata": {},
   "outputs": [],
   "source": [
    "#Part A"
   ]
  },
  {
   "cell_type": "code",
   "execution_count": 12,
   "id": "40d247ff-283c-4ca9-93d3-00dc12537887",
   "metadata": {},
   "outputs": [],
   "source": [
    "A = np.array([[1, 2, 3],\n",
    "             [4, 5, 6]])\n",
    "\n",
    "B = np.array([[6, 5, 4],\n",
    "             [3, 2, 1]])"
   ]
  },
  {
   "cell_type": "code",
   "execution_count": 13,
   "id": "358ba50a-4792-47f5-81fe-3997e164e3c8",
   "metadata": {},
   "outputs": [],
   "source": [
    "# 1. matrix addition\n",
    "addition_result = A + B"
   ]
  },
  {
   "cell_type": "code",
   "execution_count": 14,
   "id": "a456e5f2-0d2e-4552-8fe0-94bf41c22264",
   "metadata": {},
   "outputs": [],
   "source": [
    "# 2. Matrix Subtraction\n",
    "subtraction_result = A - B"
   ]
  },
  {
   "cell_type": "code",
   "execution_count": 15,
   "id": "313e8189-5fce-4cac-91fc-98bfd8987fa4",
   "metadata": {},
   "outputs": [],
   "source": [
    "# 3. Scalar Multiplication (multiply A by 2)\n",
    "scalar_multiplication_result = A * 2"
   ]
  },
  {
   "cell_type": "code",
   "execution_count": 16,
   "id": "f767c27f-35db-455e-9de1-61ed9a4d1188",
   "metadata": {},
   "outputs": [
    {
     "name": "stdout",
     "output_type": "stream",
     "text": [
      "Matrix A: \n",
      " [[1 2 3]\n",
      " [4 5 6]]\n",
      "Matrix B: \n",
      " [[6 5 4]\n",
      " [3 2 1]]\n"
     ]
    }
   ],
   "source": [
    "print('Matrix A: \\n', A)\n",
    "print('Matrix B: \\n', B)"
   ]
  },
  {
   "cell_type": "code",
   "execution_count": 17,
   "id": "b5e10628-8560-4f26-b5d7-ddaa891b623b",
   "metadata": {},
   "outputs": [
    {
     "name": "stdout",
     "output_type": "stream",
     "text": [
      "\n",
      "Matrix Addition (A + B):\n",
      " [[7 7 7]\n",
      " [7 7 7]]\n"
     ]
    }
   ],
   "source": [
    "print(\"\\nMatrix Addition (A + B):\\n\", addition_result)"
   ]
  },
  {
   "cell_type": "code",
   "execution_count": 18,
   "id": "fa53299b-abc7-464b-ada9-98d7247977c3",
   "metadata": {},
   "outputs": [
    {
     "name": "stdout",
     "output_type": "stream",
     "text": [
      "\n",
      "Matrix Subtraction (A - B):\n",
      " [[-5 -3 -1]\n",
      " [ 1  3  5]]\n"
     ]
    }
   ],
   "source": [
    "print(\"\\nMatrix Subtraction (A - B):\\n\", subtraction_result)"
   ]
  },
  {
   "cell_type": "code",
   "execution_count": 19,
   "id": "7e5161ed-0ed9-4e2e-9132-eea986746269",
   "metadata": {},
   "outputs": [
    {
     "name": "stdout",
     "output_type": "stream",
     "text": [
      "\n",
      "Scalar Multiplication (A * 2):\n",
      " [[ 2  4  6]\n",
      " [ 8 10 12]]\n"
     ]
    }
   ],
   "source": [
    "print(\"\\nScalar Multiplication (A * 2):\\n\", scalar_multiplication_result)"
   ]
  },
  {
   "cell_type": "code",
   "execution_count": 20,
   "id": "b4a0d22a-2ac7-4487-9eb9-5f0e0be09ab6",
   "metadata": {},
   "outputs": [],
   "source": [
    "#partB matrix transportation"
   ]
  },
  {
   "cell_type": "code",
   "execution_count": 21,
   "id": "646ac571-6435-4e12-b515-d0b245842f93",
   "metadata": {},
   "outputs": [],
   "source": [
    "C = np.array([['1', '2', '3'],\n",
    "             ['4', '5', '6']])"
   ]
  },
  {
   "cell_type": "code",
   "execution_count": 24,
   "id": "f58f86a2-e50f-42c6-9646-00778bfcda7b",
   "metadata": {},
   "outputs": [],
   "source": [
    "transpose_result = C.T"
   ]
  },
  {
   "cell_type": "code",
   "execution_count": 25,
   "id": "10c32d17-365a-4d5b-860d-67aa79bf3b6e",
   "metadata": {},
   "outputs": [
    {
     "name": "stdout",
     "output_type": "stream",
     "text": [
      "\n",
      "Character Matrix C:\n",
      " [['1' '2' '3']\n",
      " ['4' '5' '6']]\n",
      "\n",
      "Transposed Character Matrix (C.T):\n",
      " [['1' '4']\n",
      " ['2' '5']\n",
      " ['3' '6']]\n"
     ]
    }
   ],
   "source": [
    "print(\"\\nCharacter Matrix C:\\n\", C)\n",
    "print(\"\\nTransposed Character Matrix (C.T):\\n\", transpose_result)"
   ]
  }
 ],
 "metadata": {
  "kernelspec": {
   "display_name": "Python 3.13",
   "language": "python",
   "name": "python313"
  },
  "language_info": {
   "codemirror_mode": {
    "name": "ipython",
    "version": 3
   },
   "file_extension": ".py",
   "mimetype": "text/x-python",
   "name": "python",
   "nbconvert_exporter": "python",
   "pygments_lexer": "ipython3",
   "version": "3.13.7"
  }
 },
 "nbformat": 4,
 "nbformat_minor": 5
}
